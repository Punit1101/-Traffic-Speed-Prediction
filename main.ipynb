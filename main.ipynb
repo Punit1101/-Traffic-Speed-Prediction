{
 "cells": [
  {
   "cell_type": "code",
   "execution_count": 1,
   "id": "3ba1ee6d",
   "metadata": {},
   "outputs": [],
   "source": [
    "import argparse\n",
    "import random\n",
    "import math\n",
    "\n",
    "import numpy as np\n",
    "import pandas as pd\n",
    "import scipy.sparse as sp\n",
    "\n",
    "import torch\n",
    "import torch.nn as nn\n",
    "import torch.nn.functional as F\n",
    "import torch.nn.init as init\n",
    "\n",
    "from sklearn.preprocessing import StandardScaler\n",
    "\n",
    "import dgl\n",
    "from dgl.nn.pytorch import GraphConv\n",
    "from dgl.nn.pytorch.conv import ChebConv\n"
   ]
  },
  {
   "cell_type": "code",
   "execution_count": null,
   "id": "6cd1788d",
   "metadata": {},
   "outputs": [],
   "source": []
  },
  {
   "cell_type": "code",
   "execution_count": 2,
   "id": "7e5f3a98",
   "metadata": {},
   "outputs": [
    {
     "name": "stdout",
     "output_type": "stream",
     "text": [
      "['773869', '767541', '767542', '717447', '717446', '717445', '773062', '767620', '737529', '717816', '765604', '767471', '716339', '773906', '765273', '716331', '771667', '716337', '769953', '769402', '769403', '769819', '769405', '716941', '717578', '716960', '717804', '767572', '767573', '773012', '773013', '764424', '769388', '716328', '717819', '769941', '760987', '718204', '718045', '769418', '768066', '772140', '773927', '760024', '774012', '774011', '767609', '769359', '760650', '716956', '769831', '761604', '717495', '716554', '773953', '767470', '716955', '764949', '773954', '767366', '769444', '773939', '774067', '769443', '767750', '767751', '767610', '773880', '764766', '717497', '717490', '717491', '717492', '717493', '765176', '717498', '717499', '765171', '718064', '718066', '765164', '769431', '769430', '717610', '767053', '767621', '772596', '772597', '767350', '767351', '716571', '773023', '767585', '773024', '717483', '718379', '717481', '717480', '717486', '764120', '772151', '718371', '717489', '717488', '717818', '718076', '718072', '767455', '767454', '761599', '717099', '773916', '716968', '769467', '717576', '717573', '717572', '717571', '717570', '764760', '718089', '769847', '717608', '767523', '716942', '718090', '769867', '717472', '717473', '759591', '764781', '765099', '762329', '716953', '716951', '767509', '765182', '769358', '772513', '716958', '718496', '769346', '773904', '718499', '764853', '761003', '717502', '759602', '717504', '763995', '717508', '765265', '773996', '773995', '717469', '717468', '764106', '717465', '764794', '717466', '717461', '717460', '717463', '717462', '769345', '716943', '772669', '717582', '717583', '717580', '716949', '717587', '772178', '717585', '716939', '768469', '764101', '767554', '773975', '773974', '717510', '717513', '717825', '767495', '767494', '717821', '717823', '717458', '717459', '769926', '764858', '717450', '717452', '717453', '759772', '717456', '771673', '772167', '769372', '774204', '769806', '717590', '717592', '717595', '772168', '718141', '769373']\n"
     ]
    }
   ],
   "source": [
    "txt_f= \"data/sensor_graph/graph_sensor_ids.txt\"\n",
    "with open(txt_f) as f:\n",
    "    sensor_ids = f.read().strip().split(\",\")\n",
    "    \n",
    "print(sensor_ids)"
   ]
  },
  {
   "cell_type": "code",
   "execution_count": 3,
   "id": "1c2e5e3b",
   "metadata": {},
   "outputs": [
    {
     "data": {
      "text/plain": [
       "207"
      ]
     },
     "execution_count": 3,
     "metadata": {},
     "output_type": "execute_result"
    }
   ],
   "source": [
    "len(sensor_ids)"
   ]
  },
  {
   "cell_type": "code",
   "execution_count": 4,
   "id": "ac21d13d",
   "metadata": {},
   "outputs": [
    {
     "data": {
      "text/html": [
       "<div>\n",
       "<style scoped>\n",
       "    .dataframe tbody tr th:only-of-type {\n",
       "        vertical-align: middle;\n",
       "    }\n",
       "\n",
       "    .dataframe tbody tr th {\n",
       "        vertical-align: top;\n",
       "    }\n",
       "\n",
       "    .dataframe thead th {\n",
       "        text-align: right;\n",
       "    }\n",
       "</style>\n",
       "<table border=\"1\" class=\"dataframe\">\n",
       "  <thead>\n",
       "    <tr style=\"text-align: right;\">\n",
       "      <th></th>\n",
       "      <th>from</th>\n",
       "      <th>to</th>\n",
       "      <th>cost</th>\n",
       "    </tr>\n",
       "  </thead>\n",
       "  <tbody>\n",
       "    <tr>\n",
       "      <th>0</th>\n",
       "      <td>1201054</td>\n",
       "      <td>1201054</td>\n",
       "      <td>0.0</td>\n",
       "    </tr>\n",
       "    <tr>\n",
       "      <th>1</th>\n",
       "      <td>1201054</td>\n",
       "      <td>1201066</td>\n",
       "      <td>2610.9</td>\n",
       "    </tr>\n",
       "    <tr>\n",
       "      <th>2</th>\n",
       "      <td>1201054</td>\n",
       "      <td>1201076</td>\n",
       "      <td>2822.7</td>\n",
       "    </tr>\n",
       "    <tr>\n",
       "      <th>3</th>\n",
       "      <td>1201054</td>\n",
       "      <td>1201087</td>\n",
       "      <td>2911.5</td>\n",
       "    </tr>\n",
       "    <tr>\n",
       "      <th>4</th>\n",
       "      <td>1201054</td>\n",
       "      <td>1201100</td>\n",
       "      <td>7160.1</td>\n",
       "    </tr>\n",
       "    <tr>\n",
       "      <th>...</th>\n",
       "      <td>...</td>\n",
       "      <td>...</td>\n",
       "      <td>...</td>\n",
       "    </tr>\n",
       "    <tr>\n",
       "      <th>295369</th>\n",
       "      <td>825515</td>\n",
       "      <td>823663</td>\n",
       "      <td>9894.1</td>\n",
       "    </tr>\n",
       "    <tr>\n",
       "      <th>295370</th>\n",
       "      <td>825515</td>\n",
       "      <td>825494</td>\n",
       "      <td>475.6</td>\n",
       "    </tr>\n",
       "    <tr>\n",
       "      <th>295371</th>\n",
       "      <td>825515</td>\n",
       "      <td>825496</td>\n",
       "      <td>6458.6</td>\n",
       "    </tr>\n",
       "    <tr>\n",
       "      <th>295372</th>\n",
       "      <td>825515</td>\n",
       "      <td>825513</td>\n",
       "      <td>6934.2</td>\n",
       "    </tr>\n",
       "    <tr>\n",
       "      <th>295373</th>\n",
       "      <td>825515</td>\n",
       "      <td>825515</td>\n",
       "      <td>0.0</td>\n",
       "    </tr>\n",
       "  </tbody>\n",
       "</table>\n",
       "<p>295374 rows × 3 columns</p>\n",
       "</div>"
      ],
      "text/plain": [
       "           from       to    cost\n",
       "0       1201054  1201054     0.0\n",
       "1       1201054  1201066  2610.9\n",
       "2       1201054  1201076  2822.7\n",
       "3       1201054  1201087  2911.5\n",
       "4       1201054  1201100  7160.1\n",
       "...         ...      ...     ...\n",
       "295369   825515   823663  9894.1\n",
       "295370   825515   825494   475.6\n",
       "295371   825515   825496  6458.6\n",
       "295372   825515   825513  6934.2\n",
       "295373   825515   825515     0.0\n",
       "\n",
       "[295374 rows x 3 columns]"
      ]
     },
     "execution_count": 4,
     "metadata": {},
     "output_type": "execute_result"
    }
   ],
   "source": [
    "df = pd.read_csv(\"data/sensor_graph/distances_la_2012.csv\", dtype={\"from\": \"str\", \"to\": \"str\"})\n",
    "df\n",
    "# df.info()"
   ]
  },
  {
   "cell_type": "code",
   "execution_count": 5,
   "id": "5ef19792",
   "metadata": {},
   "outputs": [
    {
     "data": {
      "text/html": [
       "<div>\n",
       "<style scoped>\n",
       "    .dataframe tbody tr th:only-of-type {\n",
       "        vertical-align: middle;\n",
       "    }\n",
       "\n",
       "    .dataframe tbody tr th {\n",
       "        vertical-align: top;\n",
       "    }\n",
       "\n",
       "    .dataframe thead th {\n",
       "        text-align: right;\n",
       "    }\n",
       "</style>\n",
       "<table border=\"1\" class=\"dataframe\">\n",
       "  <thead>\n",
       "    <tr style=\"text-align: right;\">\n",
       "      <th></th>\n",
       "      <th>from</th>\n",
       "      <th>to</th>\n",
       "      <th>cost</th>\n",
       "    </tr>\n",
       "  </thead>\n",
       "  <tbody>\n",
       "    <tr>\n",
       "      <th>0</th>\n",
       "      <td>1201054</td>\n",
       "      <td>1201054</td>\n",
       "      <td>0.0</td>\n",
       "    </tr>\n",
       "    <tr>\n",
       "      <th>1</th>\n",
       "      <td>1201054</td>\n",
       "      <td>1201066</td>\n",
       "      <td>2610.9</td>\n",
       "    </tr>\n",
       "    <tr>\n",
       "      <th>2</th>\n",
       "      <td>1201054</td>\n",
       "      <td>1201076</td>\n",
       "      <td>2822.7</td>\n",
       "    </tr>\n",
       "    <tr>\n",
       "      <th>3</th>\n",
       "      <td>1201054</td>\n",
       "      <td>1201087</td>\n",
       "      <td>2911.5</td>\n",
       "    </tr>\n",
       "    <tr>\n",
       "      <th>4</th>\n",
       "      <td>1201054</td>\n",
       "      <td>1201100</td>\n",
       "      <td>7160.1</td>\n",
       "    </tr>\n",
       "  </tbody>\n",
       "</table>\n",
       "</div>"
      ],
      "text/plain": [
       "      from       to    cost\n",
       "0  1201054  1201054     0.0\n",
       "1  1201054  1201066  2610.9\n",
       "2  1201054  1201076  2822.7\n",
       "3  1201054  1201087  2911.5\n",
       "4  1201054  1201100  7160.1"
      ]
     },
     "execution_count": 5,
     "metadata": {},
     "output_type": "execute_result"
    }
   ],
   "source": [
    "df.head()"
   ]
  },
  {
   "cell_type": "code",
   "execution_count": 6,
   "id": "50569372",
   "metadata": {},
   "outputs": [
    {
     "name": "stdout",
     "output_type": "stream",
     "text": [
      "<class 'pandas.core.frame.DataFrame'>\n",
      "RangeIndex: 295374 entries, 0 to 295373\n",
      "Data columns (total 3 columns):\n",
      " #   Column  Non-Null Count   Dtype  \n",
      "---  ------  --------------   -----  \n",
      " 0   from    295374 non-null  object \n",
      " 1   to      295374 non-null  object \n",
      " 2   cost    295374 non-null  float64\n",
      "dtypes: float64(1), object(2)\n",
      "memory usage: 6.8+ MB\n"
     ]
    }
   ],
   "source": [
    "df.info()"
   ]
  },
  {
   "cell_type": "code",
   "execution_count": 7,
   "id": "40a51828",
   "metadata": {},
   "outputs": [
    {
     "data": {
      "text/plain": [
       "(295374, 3)"
      ]
     },
     "execution_count": 7,
     "metadata": {},
     "output_type": "execute_result"
    }
   ],
   "source": [
    "df.shape"
   ]
  },
  {
   "cell_type": "code",
   "execution_count": 8,
   "id": "669fc8ca",
   "metadata": {},
   "outputs": [],
   "source": [
    "def get_adjacency_matrix(distance_df, sensor_ids, normalized_k=0.1):\n",
    "    \"\"\"\n",
    "    :param normalized_k: entries that become lower than normalized_k after normalization are set to zero for sparsity.\n",
    "    :return: adjacency matrix\n",
    "    \"\"\"\n",
    "    num_sensors = len(sensor_ids)\n",
    "    dist_mx = np.zeros((num_sensors, num_sensors), dtype=np.float32)\n",
    "    dist_mx[:] = np.inf\n",
    "    print(\"\\nDist_mx-->\")\n",
    "    print(dist_mx)\n",
    "    \n",
    "    # Builds sensor id to index map.\n",
    "    sensor_id_to_ind = {}\n",
    "#     print(\"enumerate(sensor_ids) \",enumerate(sensor_ids))\n",
    "    for i, sensor_id in enumerate(sensor_ids):\n",
    "        sensor_id_to_ind[sensor_id] = i\n",
    "        \n",
    "    print(\"\\nsensor_id_to_ind-->\")\n",
    "    print(sensor_id_to_ind)\n",
    "    \n",
    "    # Fills cells in the matrix with distances.\n",
    "    for row in distance_df.values:\n",
    "        if row[0] not in sensor_id_to_ind or row[1] not in sensor_id_to_ind:\n",
    "            continue\n",
    "        else:\n",
    "            dist_mx[sensor_id_to_ind[row[0]], sensor_id_to_ind[row[1]]] = row[2]\n",
    "        \n",
    "    print(\"\\nDist_mx-->\")\n",
    "    print(dist_mx)\n",
    "\n",
    "    # Calculates the standard deviation as theta.\n",
    "    distances = dist_mx[~np.isinf(dist_mx)].flatten()\n",
    "#     print(distances)\n",
    "    std = distances.std()\n",
    "#     print(std)\n",
    "    adj_mx = np.exp(-np.square(dist_mx / std))\n",
    "    print(\"\\nadj_mx-->\")\n",
    "    print(adj_mx)\n",
    "    # Make the adjacent matrix symmetric by taking the max.\n",
    "    # adj_mx = np.maximum.reduce([adj_mx, adj_mx.T])\n",
    "\n",
    "    # Sets entries that lower than a threshold, i.e., k, to zero for sparsity.\n",
    "    adj_mx[adj_mx < normalized_k] = 0\n",
    "    return adj_mx\n"
   ]
  },
  {
   "cell_type": "code",
   "execution_count": 9,
   "id": "ca17c220",
   "metadata": {
    "scrolled": false
   },
   "outputs": [
    {
     "name": "stdout",
     "output_type": "stream",
     "text": [
      "\n",
      "Dist_mx-->\n",
      "[[inf inf inf ... inf inf inf]\n",
      " [inf inf inf ... inf inf inf]\n",
      " [inf inf inf ... inf inf inf]\n",
      " ...\n",
      " [inf inf inf ... inf inf inf]\n",
      " [inf inf inf ... inf inf inf]\n",
      " [inf inf inf ... inf inf inf]]\n",
      "\n",
      "sensor_id_to_ind-->\n",
      "{'773869': 0, '767541': 1, '767542': 2, '717447': 3, '717446': 4, '717445': 5, '773062': 6, '767620': 7, '737529': 8, '717816': 9, '765604': 10, '767471': 11, '716339': 12, '773906': 13, '765273': 14, '716331': 15, '771667': 16, '716337': 17, '769953': 18, '769402': 19, '769403': 20, '769819': 21, '769405': 22, '716941': 23, '717578': 24, '716960': 25, '717804': 26, '767572': 27, '767573': 28, '773012': 29, '773013': 30, '764424': 31, '769388': 32, '716328': 33, '717819': 34, '769941': 35, '760987': 36, '718204': 37, '718045': 38, '769418': 39, '768066': 40, '772140': 41, '773927': 42, '760024': 43, '774012': 44, '774011': 45, '767609': 46, '769359': 47, '760650': 48, '716956': 49, '769831': 50, '761604': 51, '717495': 52, '716554': 53, '773953': 54, '767470': 55, '716955': 56, '764949': 57, '773954': 58, '767366': 59, '769444': 60, '773939': 61, '774067': 62, '769443': 63, '767750': 64, '767751': 65, '767610': 66, '773880': 67, '764766': 68, '717497': 69, '717490': 70, '717491': 71, '717492': 72, '717493': 73, '765176': 74, '717498': 75, '717499': 76, '765171': 77, '718064': 78, '718066': 79, '765164': 80, '769431': 81, '769430': 82, '717610': 83, '767053': 84, '767621': 85, '772596': 86, '772597': 87, '767350': 88, '767351': 89, '716571': 90, '773023': 91, '767585': 92, '773024': 93, '717483': 94, '718379': 95, '717481': 96, '717480': 97, '717486': 98, '764120': 99, '772151': 100, '718371': 101, '717489': 102, '717488': 103, '717818': 104, '718076': 105, '718072': 106, '767455': 107, '767454': 108, '761599': 109, '717099': 110, '773916': 111, '716968': 112, '769467': 113, '717576': 114, '717573': 115, '717572': 116, '717571': 117, '717570': 118, '764760': 119, '718089': 120, '769847': 121, '717608': 122, '767523': 123, '716942': 124, '718090': 125, '769867': 126, '717472': 127, '717473': 128, '759591': 129, '764781': 130, '765099': 131, '762329': 132, '716953': 133, '716951': 134, '767509': 135, '765182': 136, '769358': 137, '772513': 138, '716958': 139, '718496': 140, '769346': 141, '773904': 142, '718499': 143, '764853': 144, '761003': 145, '717502': 146, '759602': 147, '717504': 148, '763995': 149, '717508': 150, '765265': 151, '773996': 152, '773995': 153, '717469': 154, '717468': 155, '764106': 156, '717465': 157, '764794': 158, '717466': 159, '717461': 160, '717460': 161, '717463': 162, '717462': 163, '769345': 164, '716943': 165, '772669': 166, '717582': 167, '717583': 168, '717580': 169, '716949': 170, '717587': 171, '772178': 172, '717585': 173, '716939': 174, '768469': 175, '764101': 176, '767554': 177, '773975': 178, '773974': 179, '717510': 180, '717513': 181, '717825': 182, '767495': 183, '767494': 184, '717821': 185, '717823': 186, '717458': 187, '717459': 188, '769926': 189, '764858': 190, '717450': 191, '717452': 192, '717453': 193, '759772': 194, '717456': 195, '771673': 196, '772167': 197, '769372': 198, '774204': 199, '769806': 200, '717590': 201, '717592': 202, '717595': 203, '772168': 204, '718141': 205, '769373': 206}\n",
      "\n",
      "Dist_mx-->\n",
      "[[    0.      inf     inf ...     inf  8114.8 10009.7]\n",
      " [    inf     0.   2504.6 ...     inf     inf     inf]\n",
      " [    inf  1489.3     0.  ...     inf     inf  9837. ]\n",
      " ...\n",
      " [    inf     inf     inf ...     0.      inf     inf]\n",
      " [ 9599.8     inf     inf ...     inf     0.      inf]\n",
      " [10119.9  9374.8     inf ...     inf  9018.7     0. ]]\n",
      "\n",
      "adj_mx-->\n",
      "[[1.0000000e+00 0.0000000e+00 0.0000000e+00 ... 0.0000000e+00\n",
      "  5.2290692e-05 3.0574833e-07]\n",
      " [0.0000000e+00 1.0000000e+00 3.9095539e-01 ... 0.0000000e+00\n",
      "  0.0000000e+00 0.0000000e+00]\n",
      " [0.0000000e+00 7.1743792e-01 1.0000000e+00 ... 0.0000000e+00\n",
      "  0.0000000e+00 5.1076745e-07]\n",
      " ...\n",
      " [0.0000000e+00 0.0000000e+00 0.0000000e+00 ... 1.0000000e+00\n",
      "  0.0000000e+00 0.0000000e+00]\n",
      " [1.0185752e-06 0.0000000e+00 0.0000000e+00 ... 0.0000000e+00\n",
      "  1.0000000e+00 0.0000000e+00]\n",
      " [2.1934696e-07 1.9301106e-06 0.0000000e+00 ... 0.0000000e+00\n",
      "  5.1458724e-06 1.0000000e+00]]\n"
     ]
    }
   ],
   "source": [
    "adj_mx = get_adjacency_matrix(df, sensor_ids)"
   ]
  },
  {
   "cell_type": "code",
   "execution_count": 10,
   "id": "50f4e9f5",
   "metadata": {
    "scrolled": true
   },
   "outputs": [
    {
     "data": {
      "text/plain": [
       "array([[1.       , 0.       , 0.       , ..., 0.       , 0.       ,\n",
       "        0.       ],\n",
       "       [0.       , 1.       , 0.3909554, ..., 0.       , 0.       ,\n",
       "        0.       ],\n",
       "       [0.       , 0.7174379, 1.       , ..., 0.       , 0.       ,\n",
       "        0.       ],\n",
       "       ...,\n",
       "       [0.       , 0.       , 0.       , ..., 1.       , 0.       ,\n",
       "        0.       ],\n",
       "       [0.       , 0.       , 0.       , ..., 0.       , 1.       ,\n",
       "        0.       ],\n",
       "       [0.       , 0.       , 0.       , ..., 0.       , 0.       ,\n",
       "        1.       ]], dtype=float32)"
      ]
     },
     "execution_count": 10,
     "metadata": {},
     "output_type": "execute_result"
    }
   ],
   "source": [
    "adj_mx"
   ]
  },
  {
   "cell_type": "code",
   "execution_count": 11,
   "id": "954b0ab9",
   "metadata": {},
   "outputs": [],
   "source": [
    "sp_mx = sp.coo_matrix(adj_mx)"
   ]
  },
  {
   "cell_type": "code",
   "execution_count": 12,
   "id": "d8917fa6",
   "metadata": {},
   "outputs": [
    {
     "name": "stdout",
     "output_type": "stream",
     "text": [
      "  (0, 0)\t1.0\n",
      "  (0, 13)\t0.22234692\n",
      "  (0, 37)\t0.5088465\n",
      "  (0, 42)\t0.13740046\n",
      "  (0, 54)\t0.4409315\n",
      "  (0, 111)\t0.21944807\n",
      "  (0, 116)\t0.41578582\n",
      "  (0, 125)\t0.10258747\n",
      "  (0, 140)\t0.11251228\n",
      "  (0, 142)\t0.7216228\n",
      "  (0, 145)\t0.87776124\n",
      "  (0, 199)\t0.119804084\n",
      "  (1, 1)\t1.0\n",
      "  (1, 2)\t0.3909554\n",
      "  (1, 7)\t0.3904571\n",
      "  (1, 28)\t0.573732\n",
      "  (1, 78)\t0.20909733\n",
      "  (1, 107)\t0.16216348\n",
      "  (1, 177)\t0.92621875\n",
      "  (1, 183)\t0.1548724\n",
      "  (2, 1)\t0.7174379\n",
      "  (2, 2)\t1.0\n",
      "  (2, 28)\t0.17432715\n",
      "  (2, 49)\t0.441055\n",
      "  (2, 78)\t0.92367977\n",
      "  :\t:\n",
      "  (204, 82)\t0.109405816\n",
      "  (204, 89)\t0.43908045\n",
      "  (204, 130)\t0.3428647\n",
      "  (204, 146)\t0.3038368\n",
      "  (204, 197)\t0.13277133\n",
      "  (204, 204)\t1.0\n",
      "  (205, 69)\t0.10102746\n",
      "  (205, 72)\t0.94447696\n",
      "  (205, 113)\t0.470247\n",
      "  (205, 141)\t0.26885048\n",
      "  (205, 190)\t0.99567246\n",
      "  (205, 205)\t1.0\n",
      "  (206, 94)\t0.13104253\n",
      "  (206, 97)\t0.5652668\n",
      "  (206, 127)\t0.9886928\n",
      "  (206, 128)\t0.39819893\n",
      "  (206, 154)\t0.5334241\n",
      "  (206, 155)\t0.9271291\n",
      "  (206, 159)\t0.78106517\n",
      "  (206, 160)\t0.41620797\n",
      "  (206, 162)\t0.14170425\n",
      "  (206, 163)\t0.6209594\n",
      "  (206, 187)\t0.27790868\n",
      "  (206, 198)\t0.32041067\n",
      "  (206, 206)\t1.0\n"
     ]
    }
   ],
   "source": [
    "print(sp_mx)"
   ]
  },
  {
   "cell_type": "code",
   "execution_count": 13,
   "id": "6689ba06",
   "metadata": {},
   "outputs": [
    {
     "data": {
      "text/plain": [
       "(207, 207)"
      ]
     },
     "execution_count": 13,
     "metadata": {},
     "output_type": "execute_result"
    }
   ],
   "source": [
    "sp_mx.shape"
   ]
  },
  {
   "cell_type": "code",
   "execution_count": 14,
   "id": "fa55077b",
   "metadata": {},
   "outputs": [],
   "source": [
    "G = dgl.from_scipy(sp_mx)"
   ]
  },
  {
   "cell_type": "code",
   "execution_count": 15,
   "id": "cb3348fd",
   "metadata": {},
   "outputs": [
    {
     "name": "stdout",
     "output_type": "stream",
     "text": [
      "Graph(num_nodes=207, num_edges=1722,\n",
      "      ndata_schemes={}\n",
      "      edata_schemes={})\n"
     ]
    }
   ],
   "source": [
    "print(G)"
   ]
  },
  {
   "cell_type": "code",
   "execution_count": 16,
   "id": "a79a05da",
   "metadata": {},
   "outputs": [],
   "source": [
    "# st=set()\n",
    "# for row in df.values:\n",
    "#     st.add(row[1])\n",
    "# print(len(st))"
   ]
  },
  {
   "cell_type": "code",
   "execution_count": 17,
   "id": "1746842d",
   "metadata": {},
   "outputs": [
    {
     "data": {
      "text/plain": [
       "(34272, 207)"
      ]
     },
     "execution_count": 17,
     "metadata": {},
     "output_type": "execute_result"
    }
   ],
   "source": [
    "h5df = pd.read_hdf(\"data/metr-la.h5\")\n",
    "num_samples, num_nodes = h5df.shape\n",
    "h5df.shape"
   ]
  },
  {
   "cell_type": "code",
   "execution_count": 18,
   "id": "c4de7b43",
   "metadata": {},
   "outputs": [
    {
     "data": {
      "text/plain": [
       "(34272, 207)"
      ]
     },
     "execution_count": 18,
     "metadata": {},
     "output_type": "execute_result"
    }
   ],
   "source": [
    "scaler = StandardScaler()\n",
    "h5df_data = scaler.fit_transform(h5df)\n",
    "h5df_data.shape"
   ]
  },
  {
   "cell_type": "code",
   "execution_count": 19,
   "id": "ccc3d000",
   "metadata": {
    "scrolled": true
   },
   "outputs": [
    {
     "data": {
      "text/plain": [
       "array([[ 0.43077492,  0.44910511,  0.34941571, ...,  0.27924332,\n",
       "         0.52828547,  0.50272961],\n",
       "       [ 0.35524801,  0.50737407,  0.2576477 , ...,  0.07308336,\n",
       "         0.4991686 ,  0.54981271],\n",
       "       [ 0.41419584,  0.20646275, -0.03965034, ...,  0.40958413,\n",
       "         0.57320864,  0.508615  ],\n",
       "       ...,\n",
       "       [ 0.54682847, -0.0492249 ,  0.48213805, ...,  0.52970212,\n",
       "         0.44675824,  0.47199481],\n",
       "       [ 0.53577575,  0.11253667,  0.28798423, ...,  0.5092565 ,\n",
       "         0.46932381,  0.57923965],\n",
       "       [ 0.46331904,  0.40301176,  0.33045538, ...,  0.54333253,\n",
       "         0.51081535,  0.49815209]])"
      ]
     },
     "execution_count": 19,
     "metadata": {},
     "output_type": "execute_result"
    }
   ],
   "source": [
    "h5df_data"
   ]
  },
  {
   "cell_type": "code",
   "execution_count": 20,
   "id": "b17781aa",
   "metadata": {},
   "outputs": [
    {
     "data": {
      "text/plain": [
       "(34272, 207)"
      ]
     },
     "execution_count": 20,
     "metadata": {},
     "output_type": "execute_result"
    }
   ],
   "source": [
    "tsdata = h5df.to_numpy()\n",
    "tsdata.shape"
   ]
  },
  {
   "cell_type": "code",
   "execution_count": 21,
   "id": "3a75027b",
   "metadata": {},
   "outputs": [],
   "source": [
    "n_his= 144\n",
    "n_pred= 5\n",
    "n_route= num_nodes\n",
    "blocks= [1, 16, 32, 64, 32, 128]\n",
    "drop_prob = 0\n",
    "num_layers= 9\n",
    "batch_size = 50\n",
    "epochs = 10\n",
    "lr = 0.001"
   ]
  },
  {
   "cell_type": "code",
   "execution_count": 22,
   "id": "dd4239b1",
   "metadata": {},
   "outputs": [],
   "source": [
    "W = adj_mx\n",
    "len_val = round(num_samples * 0.1)\n",
    "len_train = round(num_samples * 0.7)\n",
    "train = h5df[:len_train]\n",
    "val = h5df[len_train : len_train + len_val]\n",
    "test = h5df[len_train + len_val :]"
   ]
  },
  {
   "cell_type": "code",
   "execution_count": 23,
   "id": "ce964715",
   "metadata": {},
   "outputs": [],
   "source": [
    "train = scaler.fit_transform(train)\n",
    "val = scaler.transform(val)\n",
    "test = scaler.transform(test)"
   ]
  },
  {
   "cell_type": "code",
   "execution_count": 24,
   "id": "6086983d",
   "metadata": {},
   "outputs": [
    {
     "data": {
      "text/plain": [
       "(23990, 207)"
      ]
     },
     "execution_count": 24,
     "metadata": {},
     "output_type": "execute_result"
    }
   ],
   "source": [
    "train.shape"
   ]
  },
  {
   "cell_type": "code",
   "execution_count": 25,
   "id": "2cc61eb4",
   "metadata": {},
   "outputs": [
    {
     "data": {
      "text/plain": [
       "(3427, 207)"
      ]
     },
     "execution_count": 25,
     "metadata": {},
     "output_type": "execute_result"
    }
   ],
   "source": [
    "val.shape"
   ]
  },
  {
   "cell_type": "code",
   "execution_count": 26,
   "id": "65d56545",
   "metadata": {},
   "outputs": [
    {
     "data": {
      "text/plain": [
       "(6855, 207)"
      ]
     },
     "execution_count": 26,
     "metadata": {},
     "output_type": "execute_result"
    }
   ],
   "source": [
    "test.shape"
   ]
  },
  {
   "cell_type": "code",
   "execution_count": 27,
   "id": "2b2084b6",
   "metadata": {},
   "outputs": [
    {
     "name": "stdout",
     "output_type": "stream",
     "text": [
      "cpu\n"
     ]
    }
   ],
   "source": [
    "device = (\n",
    "    torch.device(\"cuda\")\n",
    "    if torch.cuda.is_available() and not (\"store_true\")\n",
    "    else torch.device(\"cpu\")\n",
    ")\n",
    "\n",
    "print(device)"
   ]
  },
  {
   "cell_type": "code",
   "execution_count": 28,
   "id": "ed16fa11",
   "metadata": {},
   "outputs": [],
   "source": [
    "def data_transform(data, n_his, n_pred, device):\n",
    "    # produce data slices for training and testing\n",
    "    n_route = data.shape[1]\n",
    "    l = len(data)\n",
    "    num = l - n_his - n_pred\n",
    "    x = np.zeros([num, 1, n_his, n_route])\n",
    "    print(x.shape)\n",
    "    y = np.zeros([num, n_route])\n",
    "\n",
    "    cnt = 0\n",
    "    for i in range(l - n_his - n_pred):\n",
    "        head = i\n",
    "        tail = i + n_his\n",
    "        x[cnt, :, :, :] = data[head:tail].reshape(1, n_his, n_route)\n",
    "        y[cnt] = data[tail + n_pred - 1]\n",
    "        cnt += 1\n",
    "        \n",
    "    print(torch.Tensor(x).to(device).shape, torch.Tensor(y).to(device).shape)\n",
    "    return torch.Tensor(x).to(device), torch.Tensor(y).to(device)"
   ]
  },
  {
   "cell_type": "code",
   "execution_count": 29,
   "id": "8b30cb7a",
   "metadata": {},
   "outputs": [
    {
     "name": "stdout",
     "output_type": "stream",
     "text": [
      "(23841, 1, 144, 207)\n",
      "torch.Size([23841, 1, 144, 207]) torch.Size([23841, 207])\n",
      "(3278, 1, 144, 207)\n",
      "torch.Size([3278, 1, 144, 207]) torch.Size([3278, 207])\n",
      "(6706, 1, 144, 207)\n",
      "torch.Size([6706, 1, 144, 207]) torch.Size([6706, 207])\n"
     ]
    }
   ],
   "source": [
    "x_train, y_train = data_transform(train, n_his, n_pred, device)\n",
    "x_val, y_val = data_transform(val, n_his, n_pred, device)\n",
    "x_test, y_test = data_transform(test, n_his, n_pred, device)"
   ]
  },
  {
   "cell_type": "code",
   "execution_count": 30,
   "id": "1b5cf77a",
   "metadata": {},
   "outputs": [],
   "source": [
    "train_data = torch.utils.data.TensorDataset(x_train, y_train)\n",
    "train_iter = torch.utils.data.DataLoader(train_data, batch_size, shuffle=True)\n",
    "val_data = torch.utils.data.TensorDataset(x_val, y_val)\n",
    "val_iter = torch.utils.data.DataLoader(val_data, batch_size)\n",
    "test_data = torch.utils.data.TensorDataset(x_test, y_test)\n",
    "test_iter = torch.utils.data.DataLoader(test_data, batch_size)"
   ]
  },
  {
   "cell_type": "code",
   "execution_count": null,
   "id": "219c3840",
   "metadata": {},
   "outputs": [],
   "source": []
  },
  {
   "cell_type": "code",
   "execution_count": 31,
   "id": "d7e980fd",
   "metadata": {},
   "outputs": [
    {
     "name": "stdout",
     "output_type": "stream",
     "text": [
      "MSELoss()\n"
     ]
    }
   ],
   "source": [
    "loss = nn.MSELoss()\n",
    "print(loss)"
   ]
  },
  {
   "cell_type": "code",
   "execution_count": 32,
   "id": "ca7bd14d",
   "metadata": {},
   "outputs": [
    {
     "name": "stdout",
     "output_type": "stream",
     "text": [
      "Graph(num_nodes=207, num_edges=1722,\n",
      "      ndata_schemes={}\n",
      "      edata_schemes={})\n"
     ]
    }
   ],
   "source": [
    "G = G.to(device)\n",
    "print(G)"
   ]
  },
  {
   "cell_type": "code",
   "execution_count": 33,
   "id": "1970ffc8",
   "metadata": {},
   "outputs": [],
   "source": [
    "class TemporalConvLayer(nn.Module):\n",
    "    \"\"\"Temporal convolution layer.\n",
    "\n",
    "    arguments\n",
    "    ---------\n",
    "    c_in : int\n",
    "        The number of input channels (features)\n",
    "    c_out : int\n",
    "        The number of output channels (features)\n",
    "    dia : int\n",
    "        The dilation size\n",
    "    \"\"\"\n",
    "\n",
    "    def __init__(self, c_in, c_out, dia=1):\n",
    "        super(TemporalConvLayer, self).__init__()\n",
    "        self.c_out = c_out\n",
    "        self.c_in = c_in\n",
    "        self.conv = nn.Conv2d(\n",
    "            c_in, c_out, (2, 1), 1, dilation=dia, padding=(0, 0)\n",
    "        )\n",
    "#         print(self.conv)\n",
    "\n",
    "    def forward(self, x):\n",
    "        print(\"0\")\n",
    "        return torch.relu(self.conv(x))"
   ]
  },
  {
   "cell_type": "code",
   "execution_count": 34,
   "id": "d56b983e",
   "metadata": {},
   "outputs": [],
   "source": [
    "class SpatioConvLayer(nn.Module):\n",
    "    def __init__(self, c, Lk):  # c : hidden dimension Lk: graph matrix\n",
    "        super(SpatioConvLayer, self).__init__()\n",
    "        self.g = Lk\n",
    "        self.gc = GraphConv(c, c, activation=F.relu)\n",
    "#         print(self.g,\"***\",self.gc)\n",
    "\n",
    "    def init(self):\n",
    "        print(\"-1\")\n",
    "        stdv = 1.0 / math.sqrt(self.W.weight.size(1))\n",
    "        self.W.weight.data.uniform_(-stdv, stdv)\n",
    "\n",
    "    def forward(self, x):\n",
    "        print(\"1\")\n",
    "        x = x.transpose(0, 3)\n",
    "        x = x.transpose(1, 3)\n",
    "        output = self.gc(self.g, x)\n",
    "        output = output.transpose(1, 3)\n",
    "        output = output.transpose(0, 3)\n",
    "        return torch.relu(output)"
   ]
  },
  {
   "cell_type": "code",
   "execution_count": 35,
   "id": "370cb4bb",
   "metadata": {},
   "outputs": [],
   "source": [
    "class FullyConvLayer(nn.Module):\n",
    "    def __init__(self, c):\n",
    "        super(FullyConvLayer, self).__init__()\n",
    "        self.conv = nn.Conv2d(c, 1, 1)\n",
    "#         print(\"self.conv--> \",self.conv)\n",
    "\n",
    "    def forward(self, x):\n",
    "        print(\"2\")\n",
    "        return self.conv(x)"
   ]
  },
  {
   "cell_type": "code",
   "execution_count": 36,
   "id": "be3c85d4",
   "metadata": {},
   "outputs": [],
   "source": [
    "class OutputLayer(nn.Module):\n",
    "    def __init__(self, c, T, n):\n",
    "        super(OutputLayer, self).__init__()\n",
    "        self.tconv1 = nn.Conv2d(c, c, (T, 1), 1, dilation=1, padding=(0, 0))\n",
    "        self.ln = nn.LayerNorm([n, c])\n",
    "        self.tconv2 = nn.Conv2d(c, c, (1, 1), 1, dilation=1, padding=(0, 0))\n",
    "        self.fc = FullyConvLayer(c)\n",
    "\n",
    "    def forward(self, x):\n",
    "        print(\"3\")\n",
    "        x_t1 = self.tconv1(x)\n",
    "        x_ln = self.ln(x_t1.permute(0, 2, 3, 1)).permute(0, 3, 1, 2)\n",
    "        x_t2 = self.tconv2(x_ln)\n",
    "        return self.fc(x_t2)"
   ]
  },
  {
   "cell_type": "code",
   "execution_count": 37,
   "id": "246054ab",
   "metadata": {},
   "outputs": [],
   "source": [
    "class STGCN_WAVE(nn.Module):\n",
    "    def __init__(\n",
    "        self, c, T, n, Lk, p, num_layers, device, control_str=\"TNTSTNTST\"\n",
    "    ):\n",
    "        super(STGCN_WAVE, self).__init__()\n",
    "        self.control_str = control_str  # model structure controller\n",
    "        self.num_layers = len(control_str)\n",
    "        self.layers = nn.ModuleList([])\n",
    "        cnt = 0\n",
    "        diapower = 0\n",
    "        \n",
    "        for i in range(self.num_layers):\n",
    "            i_layer = control_str[i]\n",
    "            if i_layer == \"T\":  # Temporal Layer\n",
    "                self.layers.append(\n",
    "                    TemporalConvLayer(c[cnt], c[cnt + 1], dia=2**diapower)\n",
    "                )\n",
    "                diapower += 1\n",
    "                cnt += 1\n",
    "            if i_layer == \"S\":  # Spatio Layer\n",
    "                self.layers.append(SpatioConvLayer(c[cnt], Lk))\n",
    "            if i_layer == \"N\":  # Norm Layer\n",
    "                self.layers.append(nn.LayerNorm([n, c[cnt]]))\n",
    "        self.output = OutputLayer(c[cnt], T + 1 - 2 ** (diapower), n)\n",
    "        for layer in self.layers:\n",
    "            layer = layer.to(device)\n",
    "        \n",
    "#         print(\"self.output--> \",self.layers)\n",
    "#         print(\"self.output--> \",self.output)\n",
    "        \n",
    "\n",
    "    def forward(self, x):\n",
    "        for i in range(self.num_layers):\n",
    "            i_layer = self.control_str[i]\n",
    "            if i_layer == \"N\":\n",
    "                x = self.layers[i](x.permute(0, 2, 3, 1)).permute(0, 3, 1, 2)\n",
    "            else:\n",
    "                x = self.layers[i](x)\n",
    "        return self.output(x)"
   ]
  },
  {
   "cell_type": "code",
   "execution_count": 38,
   "id": "27d50452",
   "metadata": {},
   "outputs": [
    {
     "name": "stdout",
     "output_type": "stream",
     "text": [
      "model-->  STGCN_WAVE(\n",
      "  (layers): ModuleList(\n",
      "    (0): TemporalConvLayer(\n",
      "      (conv): Conv2d(1, 16, kernel_size=(2, 1), stride=(1, 1))\n",
      "    )\n",
      "    (1): LayerNorm((207, 16), eps=1e-05, elementwise_affine=True)\n",
      "    (2): TemporalConvLayer(\n",
      "      (conv): Conv2d(16, 32, kernel_size=(2, 1), stride=(1, 1), dilation=(2, 2))\n",
      "    )\n",
      "    (3): SpatioConvLayer(\n",
      "      (gc): GraphConv(in=32, out=32, normalization=both, activation=<function relu at 0x000002738BB05790>)\n",
      "    )\n",
      "    (4): TemporalConvLayer(\n",
      "      (conv): Conv2d(32, 64, kernel_size=(2, 1), stride=(1, 1), dilation=(4, 4))\n",
      "    )\n",
      "    (5): LayerNorm((207, 64), eps=1e-05, elementwise_affine=True)\n",
      "    (6): TemporalConvLayer(\n",
      "      (conv): Conv2d(64, 32, kernel_size=(2, 1), stride=(1, 1), dilation=(8, 8))\n",
      "    )\n",
      "    (7): SpatioConvLayer(\n",
      "      (gc): GraphConv(in=32, out=32, normalization=both, activation=<function relu at 0x000002738BB05790>)\n",
      "    )\n",
      "    (8): TemporalConvLayer(\n",
      "      (conv): Conv2d(32, 128, kernel_size=(2, 1), stride=(1, 1), dilation=(16, 16))\n",
      "    )\n",
      "  )\n",
      "  (output): OutputLayer(\n",
      "    (tconv1): Conv2d(128, 128, kernel_size=(113, 1), stride=(1, 1))\n",
      "    (ln): LayerNorm((207, 128), eps=1e-05, elementwise_affine=True)\n",
      "    (tconv2): Conv2d(128, 128, kernel_size=(1, 1), stride=(1, 1))\n",
      "    (fc): FullyConvLayer(\n",
      "      (conv): Conv2d(128, 1, kernel_size=(1, 1), stride=(1, 1))\n",
      "    )\n",
      "  )\n",
      ")\n"
     ]
    }
   ],
   "source": [
    "model = STGCN_WAVE(\n",
    "    blocks, n_his, n_route, G, drop_prob, num_layers, device, \"TNTSTNTST\"\n",
    ").to(device)\n",
    "\n",
    "print(\"model--> \",model)"
   ]
  },
  {
   "cell_type": "code",
   "execution_count": 39,
   "id": "076a4b0f",
   "metadata": {},
   "outputs": [
    {
     "name": "stdout",
     "output_type": "stream",
     "text": [
      "RMSprop (\n",
      "Parameter Group 0\n",
      "    alpha: 0.99\n",
      "    centered: False\n",
      "    differentiable: False\n",
      "    eps: 1e-08\n",
      "    foreach: None\n",
      "    lr: 0.001\n",
      "    maximize: False\n",
      "    momentum: 0\n",
      "    weight_decay: 0\n",
      ")\n"
     ]
    }
   ],
   "source": [
    "optimizer = torch.optim.RMSprop(model.parameters(), lr=lr)\n",
    "print(optimizer)"
   ]
  },
  {
   "cell_type": "code",
   "execution_count": 40,
   "id": "b235a6c8",
   "metadata": {},
   "outputs": [],
   "source": [
    "scheduler = torch.optim.lr_scheduler.StepLR(optimizer, step_size=5, gamma=0.7)\n",
    "# print(scheduler)"
   ]
  },
  {
   "cell_type": "code",
   "execution_count": 41,
   "id": "ef5210a9",
   "metadata": {},
   "outputs": [],
   "source": [
    "# min_val_loss = np.inf\n",
    "# for epoch in range(1, epochs + 1):\n",
    "#     l_sum, n = 0.0, 0\n",
    "#     model.train()\n",
    "#     for x, y in train_iter:\n",
    "#         y_pred = model(x).view(len(x), -1)\n",
    "#         l = loss(y_pred, y)\n",
    "#         optimizer.zero_grad()\n",
    "#         l.backward()\n",
    "#         optimizer.step()\n",
    "#         l_sum += l.item() * y.shape[0]\n",
    "#         n += y.shape[0]\n",
    "    \n",
    "#     print(\"print\")\n",
    "#     scheduler.step()\n",
    "#     val_loss = evaluate_model(model, loss, val_iter)\n",
    "#     if val_loss < min_val_loss:\n",
    "#         min_val_loss = val_loss\n",
    "#         torch.save(model.state_dict(), save_path)\n",
    "#     print(\n",
    "#         \"epoch\",\n",
    "#         epoch,\n",
    "#         \", train loss:\",\n",
    "#         l_sum / n,\n",
    "#         \", validation loss:\",\n",
    "#         val_loss,\n",
    "#     )"
   ]
  },
  {
   "cell_type": "code",
   "execution_count": 42,
   "id": "1a3e169a",
   "metadata": {},
   "outputs": [],
   "source": [
    "# best_model = STGCN_WAVE(\n",
    "#     blocks, n_his, n_route, G, drop_prob, num_layers, device, \"TNTSTNTST\"\n",
    "# ).to(device)\n",
    "\n",
    "# print(\"best_model--> \",best_model)"
   ]
  },
  {
   "cell_type": "code",
   "execution_count": 43,
   "id": "93170738",
   "metadata": {},
   "outputs": [],
   "source": [
    "# l = evaluate_model(model, loss, test_iter)\n",
    "# MAE, MAPE, RMSE = evaluate_metric(model, test_iter, scaler)\n",
    "# print(\"test loss:\", l, \"\\nMAE:\", MAE, \", MAPE:\", MAPE, \", RMSE:\", RMSE)"
   ]
  },
  {
   "cell_type": "code",
   "execution_count": 44,
   "id": "f54cc02e",
   "metadata": {},
   "outputs": [],
   "source": [
    "# l = evaluate_model(best_model, loss, test_iter)\n",
    "# MAE, MAPE, RMSE = evaluate_metric(best_model, test_iter, scaler)\n",
    "# print(\"test loss:\", l, \"\\nMAE:\", MAE, \", MAPE:\", MAPE, \", RMSE:\", RMSE)"
   ]
  },
  {
   "cell_type": "code",
   "execution_count": 45,
   "id": "d95fc3fe",
   "metadata": {},
   "outputs": [],
   "source": [
    "# import pickle"
   ]
  },
  {
   "cell_type": "code",
   "execution_count": 46,
   "id": "620fd078",
   "metadata": {},
   "outputs": [],
   "source": [
    "# pickle.dump(best_model, open('best_model.pkl', 'wb'))"
   ]
  },
  {
   "cell_type": "code",
   "execution_count": 47,
   "id": "9b1461d0",
   "metadata": {},
   "outputs": [],
   "source": [
    "# pickle.dump(model, open('model.pkl', 'wb'))"
   ]
  }
 ],
 "metadata": {
  "kernelspec": {
   "display_name": "Python 3 (ipykernel)",
   "language": "python",
   "name": "python3"
  },
  "language_info": {
   "codemirror_mode": {
    "name": "ipython",
    "version": 3
   },
   "file_extension": ".py",
   "mimetype": "text/x-python",
   "name": "python",
   "nbconvert_exporter": "python",
   "pygments_lexer": "ipython3",
   "version": "3.9.1"
  }
 },
 "nbformat": 4,
 "nbformat_minor": 5
}
